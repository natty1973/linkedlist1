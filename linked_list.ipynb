{
 "cells": [
  {
   "cell_type": "code",
   "execution_count": 66,
   "metadata": {},
   "outputs": [],
   "source": [
    "class LinkedNode:\n",
    "    \n",
    "    \"\"\"link nodes referring to the value, and the next node\"\"\"\n",
    "    def __init__(self, value, tail=None):\n",
    "        self.value = value\n",
    "        self.next = tail\n",
    "\n",
    "class LinkedList:\n",
    "    \n",
    "    \"\"\" initiating the head of the list, and preparing to add a new value to the front\"\"\"\n",
    "    def __init__(self, *start):\n",
    "        self.head = None\n",
    "        \n",
    "        for _ in start:\n",
    "            self.prepend(_)\n",
    "    \n",
    "    def prepend(self, value):\n",
    "        \"\"\" add a new value to the front of the list , O(1)\"\"\"\n",
    "        self.head = LinkedNode(value, self.head)\n",
    "    \n",
    "            \n",
    "    def __iter_(self):\n",
    "        \n",
    "        \"\"\" iterating the head, keep going until you get to the end of the list\"\"\"\n",
    "        n = self.head\n",
    "        while n != None:\n",
    "            yield n.value\n",
    "        n = self.next\n",
    "        \n",
    "    def pop(self):\n",
    "        \n",
    "        \"\"\"Deletes the first item from the list, if the head is empty, raise exception ('Empty List')\"\"\"\n",
    "        if self.head is None:\n",
    "            raise Exception (\"Empty List\")\n",
    "        val = self.head.value\n",
    "        self.head = self.head.next\n",
    "        return val\n",
    "    \n",
    "  \n",
    "        "
   ]
  },
  {
   "cell_type": "code",
   "execution_count": 67,
   "metadata": {},
   "outputs": [],
   "source": [
    "a = LinkedList()\n",
    "a.prepend(11)\n",
    "a.prepend(12)\n",
    "a.prepend(2)\n",
    "a.prepend(6)\n",
    "a.prepend(10)\n",
    "a.prepend(25)"
   ]
  },
  {
   "cell_type": "code",
   "execution_count": 64,
   "metadata": {},
   "outputs": [
    {
     "name": "stdout",
     "output_type": "stream",
     "text": [
      "<__main__.LinkedList object at 0x000001E46EF260B8>\n"
     ]
    }
   ],
   "source": [
    "print(a)"
   ]
  },
  {
   "cell_type": "code",
   "execution_count": 68,
   "metadata": {},
   "outputs": [
    {
     "data": {
      "text/plain": [
       "25"
      ]
     },
     "execution_count": 68,
     "metadata": {},
     "output_type": "execute_result"
    }
   ],
   "source": [
    "a.pop()"
   ]
  },
  {
   "cell_type": "code",
   "execution_count": 57,
   "metadata": {},
   "outputs": [
    {
     "data": {
      "text/plain": [
       "10"
      ]
     },
     "execution_count": 57,
     "metadata": {},
     "output_type": "execute_result"
    }
   ],
   "source": [
    "a.pop()"
   ]
  },
  {
   "cell_type": "code",
   "execution_count": 143,
   "metadata": {},
   "outputs": [],
   "source": [
    "class LinkedNode:\n",
    "    \n",
    "    \"\"\"link nodes referring to the value, and the next node\"\"\"\n",
    "    def __init__(self, value):\n",
    "        self.value = value\n",
    "        self.next = None\n",
    "        \n",
    "class QueueLinkedList:\n",
    "    \n",
    "    \"\"\" initiating the queue and preparing to add a new value to the front\"\"\"\n",
    "    def __init__(self):\n",
    "        self.head = None\n",
    "        self.tail = None\n",
    "          \n",
    "            \n",
    "    def enqueue(self, value):\n",
    "        \"\"\" add a new value to the front of the list , O(1)\"\"\"\n",
    "    \n",
    "        if self.tail is None:\n",
    "            self.head = LinkedNode(value)\n",
    "            self.tail = self.head\n",
    "        else:\n",
    "            self.tail.next = LinkedNode(value)\n",
    "            self.tail = self.tail.next\n",
    "   \n",
    "    def isEmpty (self):\n",
    "        \"\"\"check to see if queue is empty\"\"\"\n",
    "        return self.head == None\n",
    "    \n",
    "    def dequeue(self):\n",
    "        \n",
    "        \"\"\"Deletes the first item from the queue\"\"\"\n",
    "        if self.head is None:\n",
    "            return None\n",
    "        else:    \n",
    "            val = self.head.value\n",
    "            self.head = self.head.next  \n",
    "        return val\n",
    "\n",
    "    def __iter_(self):\n",
    "        \n",
    "        \"\"\" iterating the head, keep going until you get to the end of the list\"\"\"\n",
    "        n = self.head\n",
    "        while n != None:\n",
    "            yield n.value\n",
    "        n = self.next\n",
    "    "
   ]
  },
  {
   "cell_type": "code",
   "execution_count": 144,
   "metadata": {},
   "outputs": [],
   "source": [
    " q = QueueLinkedList()"
   ]
  },
  {
   "cell_type": "code",
   "execution_count": 145,
   "metadata": {},
   "outputs": [],
   "source": [
    "q.enqueue(10)\n",
    "q.enqueue(2)\n",
    "q.enqueue(25)\n",
    "q.enqueue(16)\n",
    "q.enqueue(8)"
   ]
  },
  {
   "cell_type": "code",
   "execution_count": 141,
   "metadata": {},
   "outputs": [
    {
     "name": "stdout",
     "output_type": "stream",
     "text": [
      "<__main__.QueueLinkedList object at 0x000001E46EF4D048>\n"
     ]
    }
   ],
   "source": [
    "print (q)"
   ]
  },
  {
   "cell_type": "code",
   "execution_count": 146,
   "metadata": {},
   "outputs": [
    {
     "data": {
      "text/plain": [
       "10"
      ]
     },
     "execution_count": 146,
     "metadata": {},
     "output_type": "execute_result"
    }
   ],
   "source": [
    "q.dequeue()"
   ]
  },
  {
   "cell_type": "code",
   "execution_count": 147,
   "metadata": {},
   "outputs": [
    {
     "data": {
      "text/plain": [
       "2"
      ]
     },
     "execution_count": 147,
     "metadata": {},
     "output_type": "execute_result"
    }
   ],
   "source": [
    "q.dequeue()"
   ]
  },
  {
   "cell_type": "code",
   "execution_count": 178,
   "metadata": {},
   "outputs": [],
   "source": [
    "class StackLinkedNode:\n",
    " \n",
    "    \"\"\"link nodes referring to a Stack, the value, and the next node\"\"\"\n",
    "    def __init__(self, value):\n",
    "        self.value = value\n",
    "        self.next = None\n",
    "        \n",
    "class StackLinkedList:\n",
    "    \n",
    "      \"\"\" initiating the queue and preparing to add a new value to the front\"\"\"\n",
    "        \n",
    "def __init__(self):\n",
    "    \n",
    "      \n",
    "        self.head = None\n",
    "        \n",
    "        def push(self, value): \n",
    "            \n",
    "            \"\"\"adding a new value to the beginning of the stack\"\"\"\n",
    "            \n",
    "            if self.head is None:\n",
    "                self.head = StacklinkedNode(value)\n",
    "            else:\n",
    "                new_node = StackLinkedNode(value)\n",
    "                new_node.next = self.head\n",
    "                self.head = new_node\n",
    "\n",
    "        def pop(self,value):\n",
    "            \"\"\"removing an existing value from the beginning of the stack\"\"\"\n",
    "            if self.head is None:\n",
    "                return None\n",
    "            else: \n",
    "                val = self.head.value\n",
    "                self.head = self.head.next\n",
    "                return val\n",
    "\n",
    "\n",
    "        \n"
   ]
  },
  {
   "cell_type": "code",
   "execution_count": null,
   "metadata": {},
   "outputs": [],
   "source": []
  }
 ],
 "metadata": {
  "kernelspec": {
   "display_name": "Python 3",
   "language": "python",
   "name": "python3"
  },
  "language_info": {
   "codemirror_mode": {
    "name": "ipython",
    "version": 3
   },
   "file_extension": ".py",
   "mimetype": "text/x-python",
   "name": "python",
   "nbconvert_exporter": "python",
   "pygments_lexer": "ipython3",
   "version": "3.7.3"
  }
 },
 "nbformat": 4,
 "nbformat_minor": 2
}
